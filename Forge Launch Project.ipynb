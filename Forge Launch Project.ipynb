{
 "cells": [
  {
   "cell_type": "markdown",
   "id": "a7a2dd22",
   "metadata": {},
   "source": [
    "# World Happiness Report - Forge Project"
   ]
  },
  {
   "cell_type": "markdown",
   "id": "46ecd5fd",
   "metadata": {},
   "source": [
    "Background and motivation: <br> In this project, I was interested in finding insights about how the world's happiness levels changed during the COVID-19 pandemic. The aim of this dataset was to essentially quantify the happiness levels of 140+ countries using various factors such as their GDP per capita, life expectancy, freedom to make life choices, etc. Specifically, I am interested in finding out if there was a significant drop in happiness in 2020, when COVID hit, and if people felt that their freedom to make life choices decreased substantially (due to quarantine, isolation, etc.)."
   ]
  },
  {
   "cell_type": "markdown",
   "id": "fa6ade28",
   "metadata": {},
   "source": [
    "Link to dataset: https://www.kaggle.com/datasets/mathurinache/world-happiness-report-20152021?resource=download&select=2019.csv"
   ]
  },
  {
   "cell_type": "code",
   "execution_count": 639,
   "id": "62f0fff2",
   "metadata": {},
   "outputs": [],
   "source": [
    "import pandas as pd\n",
    "import csv\n",
    "import seaborn as sns\n",
    "import matplotlib.pyplot as plt\n",
    "import numpy as np\n",
    "import scipy as sp"
   ]
  },
  {
   "cell_type": "markdown",
   "id": "342b7951",
   "metadata": {},
   "source": [
    "## Data cleaning"
   ]
  },
  {
   "cell_type": "markdown",
   "id": "2a16fedc",
   "metadata": {},
   "source": [
    "#### Initial steps: \n",
    "1. Read in CSV files <br>\n",
    "2. Take a look at the datasets, figure out what columns I want to use and their names <br>\n",
    "3. Turn them into DataFrames for easy manipulation and clean them up wherever needed "
   ]
  },
  {
   "cell_type": "code",
   "execution_count": 54,
   "id": "c4aeb867",
   "metadata": {},
   "outputs": [],
   "source": [
    "yr19 = pd.read_csv('2019.csv')\n",
    "yr20 = pd.read_csv('2020.csv')\n",
    "yr21 = pd.read_csv('2021.csv')"
   ]
  },
  {
   "cell_type": "code",
   "execution_count": 162,
   "id": "329f627a",
   "metadata": {},
   "outputs": [
    {
     "data": {
      "text/html": [
       "<div>\n",
       "<style scoped>\n",
       "    .dataframe tbody tr th:only-of-type {\n",
       "        vertical-align: middle;\n",
       "    }\n",
       "\n",
       "    .dataframe tbody tr th {\n",
       "        vertical-align: top;\n",
       "    }\n",
       "\n",
       "    .dataframe thead th {\n",
       "        text-align: right;\n",
       "    }\n",
       "</style>\n",
       "<table border=\"1\" class=\"dataframe\">\n",
       "  <thead>\n",
       "    <tr style=\"text-align: right;\">\n",
       "      <th></th>\n",
       "      <th>Overall rank</th>\n",
       "      <th>Country or region</th>\n",
       "      <th>Score</th>\n",
       "      <th>GDP per capita</th>\n",
       "      <th>Social support</th>\n",
       "      <th>Healthy life expectancy</th>\n",
       "      <th>Freedom to make life choices</th>\n",
       "      <th>Generosity</th>\n",
       "      <th>Perceptions of corruption</th>\n",
       "    </tr>\n",
       "  </thead>\n",
       "  <tbody>\n",
       "    <tr>\n",
       "      <th>0</th>\n",
       "      <td>1</td>\n",
       "      <td>Finland</td>\n",
       "      <td>7.769</td>\n",
       "      <td>1.340</td>\n",
       "      <td>1.587</td>\n",
       "      <td>0.986</td>\n",
       "      <td>0.596</td>\n",
       "      <td>0.153</td>\n",
       "      <td>0.393</td>\n",
       "    </tr>\n",
       "    <tr>\n",
       "      <th>1</th>\n",
       "      <td>2</td>\n",
       "      <td>Denmark</td>\n",
       "      <td>7.600</td>\n",
       "      <td>1.383</td>\n",
       "      <td>1.573</td>\n",
       "      <td>0.996</td>\n",
       "      <td>0.592</td>\n",
       "      <td>0.252</td>\n",
       "      <td>0.410</td>\n",
       "    </tr>\n",
       "    <tr>\n",
       "      <th>2</th>\n",
       "      <td>3</td>\n",
       "      <td>Norway</td>\n",
       "      <td>7.554</td>\n",
       "      <td>1.488</td>\n",
       "      <td>1.582</td>\n",
       "      <td>1.028</td>\n",
       "      <td>0.603</td>\n",
       "      <td>0.271</td>\n",
       "      <td>0.341</td>\n",
       "    </tr>\n",
       "    <tr>\n",
       "      <th>3</th>\n",
       "      <td>4</td>\n",
       "      <td>Iceland</td>\n",
       "      <td>7.494</td>\n",
       "      <td>1.380</td>\n",
       "      <td>1.624</td>\n",
       "      <td>1.026</td>\n",
       "      <td>0.591</td>\n",
       "      <td>0.354</td>\n",
       "      <td>0.118</td>\n",
       "    </tr>\n",
       "    <tr>\n",
       "      <th>4</th>\n",
       "      <td>5</td>\n",
       "      <td>Netherlands</td>\n",
       "      <td>7.488</td>\n",
       "      <td>1.396</td>\n",
       "      <td>1.522</td>\n",
       "      <td>0.999</td>\n",
       "      <td>0.557</td>\n",
       "      <td>0.322</td>\n",
       "      <td>0.298</td>\n",
       "    </tr>\n",
       "  </tbody>\n",
       "</table>\n",
       "</div>"
      ],
      "text/plain": [
       "   Overall rank Country or region  Score  GDP per capita  Social support  \\\n",
       "0             1           Finland  7.769           1.340           1.587   \n",
       "1             2           Denmark  7.600           1.383           1.573   \n",
       "2             3            Norway  7.554           1.488           1.582   \n",
       "3             4           Iceland  7.494           1.380           1.624   \n",
       "4             5       Netherlands  7.488           1.396           1.522   \n",
       "\n",
       "   Healthy life expectancy  Freedom to make life choices  Generosity  \\\n",
       "0                    0.986                         0.596       0.153   \n",
       "1                    0.996                         0.592       0.252   \n",
       "2                    1.028                         0.603       0.271   \n",
       "3                    1.026                         0.591       0.354   \n",
       "4                    0.999                         0.557       0.322   \n",
       "\n",
       "   Perceptions of corruption  \n",
       "0                      0.393  \n",
       "1                      0.410  \n",
       "2                      0.341  \n",
       "3                      0.118  \n",
       "4                      0.298  "
      ]
     },
     "execution_count": 162,
     "metadata": {},
     "output_type": "execute_result"
    }
   ],
   "source": [
    "yr19.head(5)\n",
    "# Taking a quick look "
   ]
  },
  {
   "cell_type": "code",
   "execution_count": 74,
   "id": "a8d30d28",
   "metadata": {},
   "outputs": [
    {
     "data": {
      "text/html": [
       "<div>\n",
       "<style scoped>\n",
       "    .dataframe tbody tr th:only-of-type {\n",
       "        vertical-align: middle;\n",
       "    }\n",
       "\n",
       "    .dataframe tbody tr th {\n",
       "        vertical-align: top;\n",
       "    }\n",
       "\n",
       "    .dataframe thead th {\n",
       "        text-align: right;\n",
       "    }\n",
       "</style>\n",
       "<table border=\"1\" class=\"dataframe\">\n",
       "  <thead>\n",
       "    <tr style=\"text-align: right;\">\n",
       "      <th></th>\n",
       "      <th>Country name</th>\n",
       "      <th>Regional indicator</th>\n",
       "      <th>Ladder score</th>\n",
       "      <th>Standard error of ladder score</th>\n",
       "      <th>upperwhisker</th>\n",
       "      <th>lowerwhisker</th>\n",
       "      <th>Logged GDP per capita</th>\n",
       "      <th>Social support</th>\n",
       "      <th>Healthy life expectancy</th>\n",
       "      <th>Freedom to make life choices</th>\n",
       "      <th>Generosity</th>\n",
       "      <th>Perceptions of corruption</th>\n",
       "      <th>Ladder score in Dystopia</th>\n",
       "      <th>Explained by: Log GDP per capita</th>\n",
       "      <th>Explained by: Social support</th>\n",
       "      <th>Explained by: Healthy life expectancy</th>\n",
       "      <th>Explained by: Freedom to make life choices</th>\n",
       "      <th>Explained by: Generosity</th>\n",
       "      <th>Explained by: Perceptions of corruption</th>\n",
       "      <th>Dystopia + residual</th>\n",
       "    </tr>\n",
       "  </thead>\n",
       "  <tbody>\n",
       "    <tr>\n",
       "      <th>0</th>\n",
       "      <td>Finland</td>\n",
       "      <td>Western Europe</td>\n",
       "      <td>7.8087</td>\n",
       "      <td>0.031156</td>\n",
       "      <td>7.869766</td>\n",
       "      <td>7.747634</td>\n",
       "      <td>10.639267</td>\n",
       "      <td>0.954330</td>\n",
       "      <td>71.900825</td>\n",
       "      <td>0.949172</td>\n",
       "      <td>-0.059482</td>\n",
       "      <td>0.195445</td>\n",
       "      <td>1.972317</td>\n",
       "      <td>1.285190</td>\n",
       "      <td>1.499526</td>\n",
       "      <td>0.961271</td>\n",
       "      <td>0.662317</td>\n",
       "      <td>0.159670</td>\n",
       "      <td>0.477857</td>\n",
       "      <td>2.762835</td>\n",
       "    </tr>\n",
       "    <tr>\n",
       "      <th>1</th>\n",
       "      <td>Denmark</td>\n",
       "      <td>Western Europe</td>\n",
       "      <td>7.6456</td>\n",
       "      <td>0.033492</td>\n",
       "      <td>7.711245</td>\n",
       "      <td>7.579955</td>\n",
       "      <td>10.774001</td>\n",
       "      <td>0.955991</td>\n",
       "      <td>72.402504</td>\n",
       "      <td>0.951444</td>\n",
       "      <td>0.066202</td>\n",
       "      <td>0.168489</td>\n",
       "      <td>1.972317</td>\n",
       "      <td>1.326949</td>\n",
       "      <td>1.503449</td>\n",
       "      <td>0.979333</td>\n",
       "      <td>0.665040</td>\n",
       "      <td>0.242793</td>\n",
       "      <td>0.495260</td>\n",
       "      <td>2.432741</td>\n",
       "    </tr>\n",
       "    <tr>\n",
       "      <th>2</th>\n",
       "      <td>Switzerland</td>\n",
       "      <td>Western Europe</td>\n",
       "      <td>7.5599</td>\n",
       "      <td>0.035014</td>\n",
       "      <td>7.628528</td>\n",
       "      <td>7.491272</td>\n",
       "      <td>10.979933</td>\n",
       "      <td>0.942847</td>\n",
       "      <td>74.102448</td>\n",
       "      <td>0.921337</td>\n",
       "      <td>0.105911</td>\n",
       "      <td>0.303728</td>\n",
       "      <td>1.972317</td>\n",
       "      <td>1.390774</td>\n",
       "      <td>1.472403</td>\n",
       "      <td>1.040533</td>\n",
       "      <td>0.628954</td>\n",
       "      <td>0.269056</td>\n",
       "      <td>0.407946</td>\n",
       "      <td>2.350267</td>\n",
       "    </tr>\n",
       "    <tr>\n",
       "      <th>3</th>\n",
       "      <td>Iceland</td>\n",
       "      <td>Western Europe</td>\n",
       "      <td>7.5045</td>\n",
       "      <td>0.059616</td>\n",
       "      <td>7.621347</td>\n",
       "      <td>7.387653</td>\n",
       "      <td>10.772559</td>\n",
       "      <td>0.974670</td>\n",
       "      <td>73.000000</td>\n",
       "      <td>0.948892</td>\n",
       "      <td>0.246944</td>\n",
       "      <td>0.711710</td>\n",
       "      <td>1.972317</td>\n",
       "      <td>1.326502</td>\n",
       "      <td>1.547567</td>\n",
       "      <td>1.000843</td>\n",
       "      <td>0.661981</td>\n",
       "      <td>0.362330</td>\n",
       "      <td>0.144541</td>\n",
       "      <td>2.460688</td>\n",
       "    </tr>\n",
       "    <tr>\n",
       "      <th>4</th>\n",
       "      <td>Norway</td>\n",
       "      <td>Western Europe</td>\n",
       "      <td>7.4880</td>\n",
       "      <td>0.034837</td>\n",
       "      <td>7.556281</td>\n",
       "      <td>7.419719</td>\n",
       "      <td>11.087804</td>\n",
       "      <td>0.952487</td>\n",
       "      <td>73.200783</td>\n",
       "      <td>0.955750</td>\n",
       "      <td>0.134533</td>\n",
       "      <td>0.263218</td>\n",
       "      <td>1.972317</td>\n",
       "      <td>1.424207</td>\n",
       "      <td>1.495173</td>\n",
       "      <td>1.008072</td>\n",
       "      <td>0.670201</td>\n",
       "      <td>0.287985</td>\n",
       "      <td>0.434101</td>\n",
       "      <td>2.168266</td>\n",
       "    </tr>\n",
       "  </tbody>\n",
       "</table>\n",
       "</div>"
      ],
      "text/plain": [
       "  Country name Regional indicator  Ladder score  \\\n",
       "0      Finland     Western Europe        7.8087   \n",
       "1      Denmark     Western Europe        7.6456   \n",
       "2  Switzerland     Western Europe        7.5599   \n",
       "3      Iceland     Western Europe        7.5045   \n",
       "4       Norway     Western Europe        7.4880   \n",
       "\n",
       "   Standard error of ladder score  upperwhisker  lowerwhisker  \\\n",
       "0                        0.031156      7.869766      7.747634   \n",
       "1                        0.033492      7.711245      7.579955   \n",
       "2                        0.035014      7.628528      7.491272   \n",
       "3                        0.059616      7.621347      7.387653   \n",
       "4                        0.034837      7.556281      7.419719   \n",
       "\n",
       "   Logged GDP per capita  Social support  Healthy life expectancy  \\\n",
       "0              10.639267        0.954330                71.900825   \n",
       "1              10.774001        0.955991                72.402504   \n",
       "2              10.979933        0.942847                74.102448   \n",
       "3              10.772559        0.974670                73.000000   \n",
       "4              11.087804        0.952487                73.200783   \n",
       "\n",
       "   Freedom to make life choices  Generosity  Perceptions of corruption  \\\n",
       "0                      0.949172   -0.059482                   0.195445   \n",
       "1                      0.951444    0.066202                   0.168489   \n",
       "2                      0.921337    0.105911                   0.303728   \n",
       "3                      0.948892    0.246944                   0.711710   \n",
       "4                      0.955750    0.134533                   0.263218   \n",
       "\n",
       "   Ladder score in Dystopia  Explained by: Log GDP per capita  \\\n",
       "0                  1.972317                          1.285190   \n",
       "1                  1.972317                          1.326949   \n",
       "2                  1.972317                          1.390774   \n",
       "3                  1.972317                          1.326502   \n",
       "4                  1.972317                          1.424207   \n",
       "\n",
       "   Explained by: Social support  Explained by: Healthy life expectancy  \\\n",
       "0                      1.499526                               0.961271   \n",
       "1                      1.503449                               0.979333   \n",
       "2                      1.472403                               1.040533   \n",
       "3                      1.547567                               1.000843   \n",
       "4                      1.495173                               1.008072   \n",
       "\n",
       "   Explained by: Freedom to make life choices  Explained by: Generosity  \\\n",
       "0                                    0.662317                  0.159670   \n",
       "1                                    0.665040                  0.242793   \n",
       "2                                    0.628954                  0.269056   \n",
       "3                                    0.661981                  0.362330   \n",
       "4                                    0.670201                  0.287985   \n",
       "\n",
       "   Explained by: Perceptions of corruption  Dystopia + residual  \n",
       "0                                 0.477857             2.762835  \n",
       "1                                 0.495260             2.432741  \n",
       "2                                 0.407946             2.350267  \n",
       "3                                 0.144541             2.460688  \n",
       "4                                 0.434101             2.168266  "
      ]
     },
     "execution_count": 74,
     "metadata": {},
     "output_type": "execute_result"
    }
   ],
   "source": [
    "yr20.head(5)\n",
    "# Taking a quick look "
   ]
  },
  {
   "cell_type": "code",
   "execution_count": 73,
   "id": "3a40a7a8",
   "metadata": {},
   "outputs": [
    {
     "data": {
      "text/html": [
       "<div>\n",
       "<style scoped>\n",
       "    .dataframe tbody tr th:only-of-type {\n",
       "        vertical-align: middle;\n",
       "    }\n",
       "\n",
       "    .dataframe tbody tr th {\n",
       "        vertical-align: top;\n",
       "    }\n",
       "\n",
       "    .dataframe thead th {\n",
       "        text-align: right;\n",
       "    }\n",
       "</style>\n",
       "<table border=\"1\" class=\"dataframe\">\n",
       "  <thead>\n",
       "    <tr style=\"text-align: right;\">\n",
       "      <th></th>\n",
       "      <th>Country name</th>\n",
       "      <th>Regional indicator</th>\n",
       "      <th>Ladder score</th>\n",
       "      <th>Standard error of ladder score</th>\n",
       "      <th>upperwhisker</th>\n",
       "      <th>lowerwhisker</th>\n",
       "      <th>Logged GDP per capita</th>\n",
       "      <th>Social support</th>\n",
       "      <th>Healthy life expectancy</th>\n",
       "      <th>Freedom to make life choices</th>\n",
       "      <th>Generosity</th>\n",
       "      <th>Perceptions of corruption</th>\n",
       "      <th>Ladder score in Dystopia</th>\n",
       "      <th>Explained by: Log GDP per capita</th>\n",
       "      <th>Explained by: Social support</th>\n",
       "      <th>Explained by: Healthy life expectancy</th>\n",
       "      <th>Explained by: Freedom to make life choices</th>\n",
       "      <th>Explained by: Generosity</th>\n",
       "      <th>Explained by: Perceptions of corruption</th>\n",
       "      <th>Dystopia + residual</th>\n",
       "    </tr>\n",
       "  </thead>\n",
       "  <tbody>\n",
       "    <tr>\n",
       "      <th>0</th>\n",
       "      <td>Finland</td>\n",
       "      <td>Western Europe</td>\n",
       "      <td>7.842</td>\n",
       "      <td>0.032</td>\n",
       "      <td>7.904</td>\n",
       "      <td>7.780</td>\n",
       "      <td>10.775</td>\n",
       "      <td>0.954</td>\n",
       "      <td>72.0</td>\n",
       "      <td>0.949</td>\n",
       "      <td>-0.098</td>\n",
       "      <td>0.186</td>\n",
       "      <td>2.43</td>\n",
       "      <td>1.446</td>\n",
       "      <td>1.106</td>\n",
       "      <td>0.741</td>\n",
       "      <td>0.691</td>\n",
       "      <td>0.124</td>\n",
       "      <td>0.481</td>\n",
       "      <td>3.253</td>\n",
       "    </tr>\n",
       "    <tr>\n",
       "      <th>1</th>\n",
       "      <td>Denmark</td>\n",
       "      <td>Western Europe</td>\n",
       "      <td>7.620</td>\n",
       "      <td>0.035</td>\n",
       "      <td>7.687</td>\n",
       "      <td>7.552</td>\n",
       "      <td>10.933</td>\n",
       "      <td>0.954</td>\n",
       "      <td>72.7</td>\n",
       "      <td>0.946</td>\n",
       "      <td>0.030</td>\n",
       "      <td>0.179</td>\n",
       "      <td>2.43</td>\n",
       "      <td>1.502</td>\n",
       "      <td>1.108</td>\n",
       "      <td>0.763</td>\n",
       "      <td>0.686</td>\n",
       "      <td>0.208</td>\n",
       "      <td>0.485</td>\n",
       "      <td>2.868</td>\n",
       "    </tr>\n",
       "    <tr>\n",
       "      <th>2</th>\n",
       "      <td>Switzerland</td>\n",
       "      <td>Western Europe</td>\n",
       "      <td>7.571</td>\n",
       "      <td>0.036</td>\n",
       "      <td>7.643</td>\n",
       "      <td>7.500</td>\n",
       "      <td>11.117</td>\n",
       "      <td>0.942</td>\n",
       "      <td>74.4</td>\n",
       "      <td>0.919</td>\n",
       "      <td>0.025</td>\n",
       "      <td>0.292</td>\n",
       "      <td>2.43</td>\n",
       "      <td>1.566</td>\n",
       "      <td>1.079</td>\n",
       "      <td>0.816</td>\n",
       "      <td>0.653</td>\n",
       "      <td>0.204</td>\n",
       "      <td>0.413</td>\n",
       "      <td>2.839</td>\n",
       "    </tr>\n",
       "    <tr>\n",
       "      <th>3</th>\n",
       "      <td>Iceland</td>\n",
       "      <td>Western Europe</td>\n",
       "      <td>7.554</td>\n",
       "      <td>0.059</td>\n",
       "      <td>7.670</td>\n",
       "      <td>7.438</td>\n",
       "      <td>10.878</td>\n",
       "      <td>0.983</td>\n",
       "      <td>73.0</td>\n",
       "      <td>0.955</td>\n",
       "      <td>0.160</td>\n",
       "      <td>0.673</td>\n",
       "      <td>2.43</td>\n",
       "      <td>1.482</td>\n",
       "      <td>1.172</td>\n",
       "      <td>0.772</td>\n",
       "      <td>0.698</td>\n",
       "      <td>0.293</td>\n",
       "      <td>0.170</td>\n",
       "      <td>2.967</td>\n",
       "    </tr>\n",
       "    <tr>\n",
       "      <th>4</th>\n",
       "      <td>Netherlands</td>\n",
       "      <td>Western Europe</td>\n",
       "      <td>7.464</td>\n",
       "      <td>0.027</td>\n",
       "      <td>7.518</td>\n",
       "      <td>7.410</td>\n",
       "      <td>10.932</td>\n",
       "      <td>0.942</td>\n",
       "      <td>72.4</td>\n",
       "      <td>0.913</td>\n",
       "      <td>0.175</td>\n",
       "      <td>0.338</td>\n",
       "      <td>2.43</td>\n",
       "      <td>1.501</td>\n",
       "      <td>1.079</td>\n",
       "      <td>0.753</td>\n",
       "      <td>0.647</td>\n",
       "      <td>0.302</td>\n",
       "      <td>0.384</td>\n",
       "      <td>2.798</td>\n",
       "    </tr>\n",
       "  </tbody>\n",
       "</table>\n",
       "</div>"
      ],
      "text/plain": [
       "  Country name Regional indicator  Ladder score  \\\n",
       "0      Finland     Western Europe         7.842   \n",
       "1      Denmark     Western Europe         7.620   \n",
       "2  Switzerland     Western Europe         7.571   \n",
       "3      Iceland     Western Europe         7.554   \n",
       "4  Netherlands     Western Europe         7.464   \n",
       "\n",
       "   Standard error of ladder score  upperwhisker  lowerwhisker  \\\n",
       "0                           0.032         7.904         7.780   \n",
       "1                           0.035         7.687         7.552   \n",
       "2                           0.036         7.643         7.500   \n",
       "3                           0.059         7.670         7.438   \n",
       "4                           0.027         7.518         7.410   \n",
       "\n",
       "   Logged GDP per capita  Social support  Healthy life expectancy  \\\n",
       "0                 10.775           0.954                     72.0   \n",
       "1                 10.933           0.954                     72.7   \n",
       "2                 11.117           0.942                     74.4   \n",
       "3                 10.878           0.983                     73.0   \n",
       "4                 10.932           0.942                     72.4   \n",
       "\n",
       "   Freedom to make life choices  Generosity  Perceptions of corruption  \\\n",
       "0                         0.949      -0.098                      0.186   \n",
       "1                         0.946       0.030                      0.179   \n",
       "2                         0.919       0.025                      0.292   \n",
       "3                         0.955       0.160                      0.673   \n",
       "4                         0.913       0.175                      0.338   \n",
       "\n",
       "   Ladder score in Dystopia  Explained by: Log GDP per capita  \\\n",
       "0                      2.43                             1.446   \n",
       "1                      2.43                             1.502   \n",
       "2                      2.43                             1.566   \n",
       "3                      2.43                             1.482   \n",
       "4                      2.43                             1.501   \n",
       "\n",
       "   Explained by: Social support  Explained by: Healthy life expectancy  \\\n",
       "0                         1.106                                  0.741   \n",
       "1                         1.108                                  0.763   \n",
       "2                         1.079                                  0.816   \n",
       "3                         1.172                                  0.772   \n",
       "4                         1.079                                  0.753   \n",
       "\n",
       "   Explained by: Freedom to make life choices  Explained by: Generosity  \\\n",
       "0                                       0.691                     0.124   \n",
       "1                                       0.686                     0.208   \n",
       "2                                       0.653                     0.204   \n",
       "3                                       0.698                     0.293   \n",
       "4                                       0.647                     0.302   \n",
       "\n",
       "   Explained by: Perceptions of corruption  Dystopia + residual  \n",
       "0                                    0.481                3.253  \n",
       "1                                    0.485                2.868  \n",
       "2                                    0.413                2.839  \n",
       "3                                    0.170                2.967  \n",
       "4                                    0.384                2.798  "
      ]
     },
     "execution_count": 73,
     "metadata": {},
     "output_type": "execute_result"
    }
   ],
   "source": [
    "yr21.head(5)\n",
    "# Taking a quick look "
   ]
  },
  {
   "cell_type": "code",
   "execution_count": 181,
   "id": "b38614a6",
   "metadata": {},
   "outputs": [],
   "source": [
    "df19 = pd.DataFrame(yr19, columns=['Country or region', 'Score', 'Freedom to make life choices'])\n",
    "df20 = pd.DataFrame(yr20, columns=['Country name', 'Ladder score', 'Freedom to make life choices'])\n",
    "df21 = pd.DataFrame(yr21, columns=['Country name', 'Ladder score', 'Freedom to make life choices'])\n",
    "# Getting only the columns I want and putting them into DataFrames"
   ]
  },
  {
   "cell_type": "markdown",
   "id": "c726bbcf",
   "metadata": {},
   "source": [
    "#### Now time to clean up the DataFrames "
   ]
  },
  {
   "cell_type": "code",
   "execution_count": 188,
   "id": "25df0352",
   "metadata": {},
   "outputs": [],
   "source": [
    "df19.rename(columns={\"Country or region\": \"Country_name\", \"Freedom to make life choices\": \"Freedom\"}, inplace = True)\n",
    "df20.rename(columns={\"Country name\": \"Country_name\", \"Ladder score\": \"Score\", \"Freedom to make life choices\": \"Freedom\"}, inplace = True)\n",
    "df21.rename(columns={\"Country name\": \"Country_name\", \"Ladder score\": \"Score\", \"Freedom to make life choices\": \"Freedom\"}, inplace = True)\n",
    "# Making sure all three datasets have the same column names with underscores for ease"
   ]
  },
  {
   "cell_type": "code",
   "execution_count": 189,
   "id": "c840930b",
   "metadata": {},
   "outputs": [],
   "source": [
    "index19 = pd.Index(range(1, len(df19) + 1, 1))\n",
    "df19 = df19.set_index(index19)\n",
    "index20 = pd.Index(range(1, len(df20) + 1, 1))\n",
    "df20 = df20.set_index(index20)\n",
    "index21 = pd.Index(range(1, len(df21) + 1, 1))\n",
    "df21 = df21.set_index(index21)\n",
    "# Adjusting the indexes"
   ]
  },
  {
   "cell_type": "code",
   "execution_count": 190,
   "id": "ee7b34c1",
   "metadata": {},
   "outputs": [],
   "source": [
    "df19.index.name = 'Happiness Rank'\n",
    "df20.index.name = 'Happiness Rank'\n",
    "df21.index.name = 'Happiness Rank'\n",
    "# Changing the index to be the overall rank"
   ]
  },
  {
   "cell_type": "code",
   "execution_count": 191,
   "id": "07eb94c6",
   "metadata": {},
   "outputs": [
    {
     "data": {
      "text/html": [
       "<div>\n",
       "<style scoped>\n",
       "    .dataframe tbody tr th:only-of-type {\n",
       "        vertical-align: middle;\n",
       "    }\n",
       "\n",
       "    .dataframe tbody tr th {\n",
       "        vertical-align: top;\n",
       "    }\n",
       "\n",
       "    .dataframe thead th {\n",
       "        text-align: right;\n",
       "    }\n",
       "</style>\n",
       "<table border=\"1\" class=\"dataframe\">\n",
       "  <thead>\n",
       "    <tr style=\"text-align: right;\">\n",
       "      <th></th>\n",
       "      <th>Country_name</th>\n",
       "      <th>Score</th>\n",
       "      <th>Freedom</th>\n",
       "    </tr>\n",
       "    <tr>\n",
       "      <th>Happiness Rank</th>\n",
       "      <th></th>\n",
       "      <th></th>\n",
       "      <th></th>\n",
       "    </tr>\n",
       "  </thead>\n",
       "  <tbody>\n",
       "    <tr>\n",
       "      <th>154</th>\n",
       "      <td>Afghanistan</td>\n",
       "      <td>3.203</td>\n",
       "      <td>0.000</td>\n",
       "    </tr>\n",
       "    <tr>\n",
       "      <th>155</th>\n",
       "      <td>Central African Republic</td>\n",
       "      <td>3.083</td>\n",
       "      <td>0.225</td>\n",
       "    </tr>\n",
       "    <tr>\n",
       "      <th>156</th>\n",
       "      <td>South Sudan</td>\n",
       "      <td>2.853</td>\n",
       "      <td>0.010</td>\n",
       "    </tr>\n",
       "  </tbody>\n",
       "</table>\n",
       "</div>"
      ],
      "text/plain": [
       "                            Country_name  Score  Freedom\n",
       "Happiness Rank                                          \n",
       "154                          Afghanistan  3.203    0.000\n",
       "155             Central African Republic  3.083    0.225\n",
       "156                          South Sudan  2.853    0.010"
      ]
     },
     "execution_count": 191,
     "metadata": {},
     "output_type": "execute_result"
    }
   ],
   "source": [
    "df19.tail(3)\n",
    "# Checking everything is good so far"
   ]
  },
  {
   "cell_type": "code",
   "execution_count": 192,
   "id": "b38b9147",
   "metadata": {},
   "outputs": [
    {
     "data": {
      "text/html": [
       "<div>\n",
       "<style scoped>\n",
       "    .dataframe tbody tr th:only-of-type {\n",
       "        vertical-align: middle;\n",
       "    }\n",
       "\n",
       "    .dataframe tbody tr th {\n",
       "        vertical-align: top;\n",
       "    }\n",
       "\n",
       "    .dataframe thead th {\n",
       "        text-align: right;\n",
       "    }\n",
       "</style>\n",
       "<table border=\"1\" class=\"dataframe\">\n",
       "  <thead>\n",
       "    <tr style=\"text-align: right;\">\n",
       "      <th></th>\n",
       "      <th>Country_name</th>\n",
       "      <th>Score</th>\n",
       "      <th>Freedom</th>\n",
       "    </tr>\n",
       "    <tr>\n",
       "      <th>Happiness Rank</th>\n",
       "      <th></th>\n",
       "      <th></th>\n",
       "      <th></th>\n",
       "    </tr>\n",
       "  </thead>\n",
       "  <tbody>\n",
       "    <tr>\n",
       "      <th>151</th>\n",
       "      <td>Zimbabwe</td>\n",
       "      <td>3.2992</td>\n",
       "      <td>0.711458</td>\n",
       "    </tr>\n",
       "    <tr>\n",
       "      <th>152</th>\n",
       "      <td>South Sudan</td>\n",
       "      <td>2.8166</td>\n",
       "      <td>0.451314</td>\n",
       "    </tr>\n",
       "    <tr>\n",
       "      <th>153</th>\n",
       "      <td>Afghanistan</td>\n",
       "      <td>2.5669</td>\n",
       "      <td>0.396573</td>\n",
       "    </tr>\n",
       "  </tbody>\n",
       "</table>\n",
       "</div>"
      ],
      "text/plain": [
       "               Country_name   Score   Freedom\n",
       "Happiness Rank                               \n",
       "151                Zimbabwe  3.2992  0.711458\n",
       "152             South Sudan  2.8166  0.451314\n",
       "153             Afghanistan  2.5669  0.396573"
      ]
     },
     "execution_count": 192,
     "metadata": {},
     "output_type": "execute_result"
    }
   ],
   "source": [
    "df20.tail(3)\n",
    "# Checking everything is good so far"
   ]
  },
  {
   "cell_type": "code",
   "execution_count": 193,
   "id": "15ed17a2",
   "metadata": {},
   "outputs": [
    {
     "data": {
      "text/html": [
       "<div>\n",
       "<style scoped>\n",
       "    .dataframe tbody tr th:only-of-type {\n",
       "        vertical-align: middle;\n",
       "    }\n",
       "\n",
       "    .dataframe tbody tr th {\n",
       "        vertical-align: top;\n",
       "    }\n",
       "\n",
       "    .dataframe thead th {\n",
       "        text-align: right;\n",
       "    }\n",
       "</style>\n",
       "<table border=\"1\" class=\"dataframe\">\n",
       "  <thead>\n",
       "    <tr style=\"text-align: right;\">\n",
       "      <th></th>\n",
       "      <th>Country_name</th>\n",
       "      <th>Score</th>\n",
       "      <th>Freedom</th>\n",
       "    </tr>\n",
       "    <tr>\n",
       "      <th>Happiness Rank</th>\n",
       "      <th></th>\n",
       "      <th></th>\n",
       "      <th></th>\n",
       "    </tr>\n",
       "  </thead>\n",
       "  <tbody>\n",
       "    <tr>\n",
       "      <th>147</th>\n",
       "      <td>Rwanda</td>\n",
       "      <td>3.415</td>\n",
       "      <td>0.897</td>\n",
       "    </tr>\n",
       "    <tr>\n",
       "      <th>148</th>\n",
       "      <td>Zimbabwe</td>\n",
       "      <td>3.145</td>\n",
       "      <td>0.677</td>\n",
       "    </tr>\n",
       "    <tr>\n",
       "      <th>149</th>\n",
       "      <td>Afghanistan</td>\n",
       "      <td>2.523</td>\n",
       "      <td>0.382</td>\n",
       "    </tr>\n",
       "  </tbody>\n",
       "</table>\n",
       "</div>"
      ],
      "text/plain": [
       "               Country_name  Score  Freedom\n",
       "Happiness Rank                             \n",
       "147                  Rwanda  3.415    0.897\n",
       "148                Zimbabwe  3.145    0.677\n",
       "149             Afghanistan  2.523    0.382"
      ]
     },
     "execution_count": 193,
     "metadata": {},
     "output_type": "execute_result"
    }
   ],
   "source": [
    "df21.tail(3)\n",
    "# Checking everything is good so far"
   ]
  },
  {
   "cell_type": "markdown",
   "id": "be09a2f4",
   "metadata": {},
   "source": [
    "#### Note: the three datasets I picked are not the same lengths- some countries are not included in 2021, for example. For this reason I will drop those countries that are not in all three datasets for the sake of comparison."
   ]
  },
  {
   "cell_type": "code",
   "execution_count": 358,
   "id": "73fde6ad",
   "metadata": {},
   "outputs": [
    {
     "data": {
      "text/html": [
       "<div>\n",
       "<style scoped>\n",
       "    .dataframe tbody tr th:only-of-type {\n",
       "        vertical-align: middle;\n",
       "    }\n",
       "\n",
       "    .dataframe tbody tr th {\n",
       "        vertical-align: top;\n",
       "    }\n",
       "\n",
       "    .dataframe thead th {\n",
       "        text-align: right;\n",
       "    }\n",
       "</style>\n",
       "<table border=\"1\" class=\"dataframe\">\n",
       "  <thead>\n",
       "    <tr style=\"text-align: right;\">\n",
       "      <th></th>\n",
       "      <th>Country_name</th>\n",
       "      <th>Score_x</th>\n",
       "      <th>Freedom_x</th>\n",
       "      <th>Score_y</th>\n",
       "      <th>Freedom_y</th>\n",
       "    </tr>\n",
       "  </thead>\n",
       "  <tbody>\n",
       "    <tr>\n",
       "      <th>0</th>\n",
       "      <td>Finland</td>\n",
       "      <td>7.769</td>\n",
       "      <td>0.596</td>\n",
       "      <td>7.8087</td>\n",
       "      <td>0.949172</td>\n",
       "    </tr>\n",
       "    <tr>\n",
       "      <th>1</th>\n",
       "      <td>Denmark</td>\n",
       "      <td>7.600</td>\n",
       "      <td>0.592</td>\n",
       "      <td>7.6456</td>\n",
       "      <td>0.951444</td>\n",
       "    </tr>\n",
       "    <tr>\n",
       "      <th>2</th>\n",
       "      <td>Norway</td>\n",
       "      <td>7.554</td>\n",
       "      <td>0.603</td>\n",
       "      <td>7.4880</td>\n",
       "      <td>0.955750</td>\n",
       "    </tr>\n",
       "  </tbody>\n",
       "</table>\n",
       "</div>"
      ],
      "text/plain": [
       "  Country_name  Score_x  Freedom_x  Score_y  Freedom_y\n",
       "0      Finland    7.769      0.596   7.8087   0.949172\n",
       "1      Denmark    7.600      0.592   7.6456   0.951444\n",
       "2       Norway    7.554      0.603   7.4880   0.955750"
      ]
     },
     "execution_count": 358,
     "metadata": {},
     "output_type": "execute_result"
    }
   ],
   "source": [
    "common = df19.merge(df20, on=[\"Country_name\"])\n",
    "common.head(3)"
   ]
  },
  {
   "cell_type": "code",
   "execution_count": 359,
   "id": "2768ea7b",
   "metadata": {},
   "outputs": [
    {
     "data": {
      "text/html": [
       "<div>\n",
       "<style scoped>\n",
       "    .dataframe tbody tr th:only-of-type {\n",
       "        vertical-align: middle;\n",
       "    }\n",
       "\n",
       "    .dataframe tbody tr th {\n",
       "        vertical-align: top;\n",
       "    }\n",
       "\n",
       "    .dataframe thead th {\n",
       "        text-align: right;\n",
       "    }\n",
       "</style>\n",
       "<table border=\"1\" class=\"dataframe\">\n",
       "  <thead>\n",
       "    <tr style=\"text-align: right;\">\n",
       "      <th></th>\n",
       "      <th>Country_name</th>\n",
       "      <th>Score</th>\n",
       "      <th>Freedom</th>\n",
       "    </tr>\n",
       "    <tr>\n",
       "      <th>Happiness Rank</th>\n",
       "      <th></th>\n",
       "      <th></th>\n",
       "      <th></th>\n",
       "    </tr>\n",
       "  </thead>\n",
       "  <tbody>\n",
       "    <tr>\n",
       "      <th>29</th>\n",
       "      <td>Qatar</td>\n",
       "      <td>6.374</td>\n",
       "      <td>0.555</td>\n",
       "    </tr>\n",
       "    <tr>\n",
       "      <th>95</th>\n",
       "      <td>Bhutan</td>\n",
       "      <td>5.082</td>\n",
       "      <td>0.457</td>\n",
       "    </tr>\n",
       "    <tr>\n",
       "      <th>112</th>\n",
       "      <td>Somalia</td>\n",
       "      <td>4.668</td>\n",
       "      <td>0.559</td>\n",
       "    </tr>\n",
       "    <tr>\n",
       "      <th>149</th>\n",
       "      <td>Syria</td>\n",
       "      <td>3.462</td>\n",
       "      <td>0.013</td>\n",
       "    </tr>\n",
       "  </tbody>\n",
       "</table>\n",
       "</div>"
      ],
      "text/plain": [
       "               Country_name  Score  Freedom\n",
       "Happiness Rank                             \n",
       "29                    Qatar  6.374    0.555\n",
       "95                   Bhutan  5.082    0.457\n",
       "112                 Somalia  4.668    0.559\n",
       "149                   Syria  3.462    0.013"
      ]
     },
     "execution_count": 359,
     "metadata": {},
     "output_type": "execute_result"
    }
   ],
   "source": [
    "# Filtering rows of df19\n",
    "result = df19[~df19.Country_name.isin(common.Country_name)]\n",
    "result"
   ]
  },
  {
   "cell_type": "code",
   "execution_count": 360,
   "id": "db807ef7",
   "metadata": {},
   "outputs": [
    {
     "data": {
      "text/html": [
       "<div>\n",
       "<style scoped>\n",
       "    .dataframe tbody tr th:only-of-type {\n",
       "        vertical-align: middle;\n",
       "    }\n",
       "\n",
       "    .dataframe tbody tr th {\n",
       "        vertical-align: top;\n",
       "    }\n",
       "\n",
       "    .dataframe thead th {\n",
       "        text-align: right;\n",
       "    }\n",
       "</style>\n",
       "<table border=\"1\" class=\"dataframe\">\n",
       "  <thead>\n",
       "    <tr style=\"text-align: right;\">\n",
       "      <th></th>\n",
       "      <th>Country_name</th>\n",
       "      <th>Score</th>\n",
       "      <th>Freedom</th>\n",
       "    </tr>\n",
       "    <tr>\n",
       "      <th>Happiness Rank</th>\n",
       "      <th></th>\n",
       "      <th></th>\n",
       "      <th></th>\n",
       "    </tr>\n",
       "  </thead>\n",
       "  <tbody>\n",
       "    <tr>\n",
       "      <th>87</th>\n",
       "      <td>Maldives</td>\n",
       "      <td>5.1976</td>\n",
       "      <td>0.853963</td>\n",
       "    </tr>\n",
       "  </tbody>\n",
       "</table>\n",
       "</div>"
      ],
      "text/plain": [
       "               Country_name   Score   Freedom\n",
       "Happiness Rank                               \n",
       "87                 Maldives  5.1976  0.853963"
      ]
     },
     "execution_count": 360,
     "metadata": {},
     "output_type": "execute_result"
    }
   ],
   "source": [
    "result2 = df20[~df20.Country_name.isin(common.Country_name)]\n",
    "result2"
   ]
  },
  {
   "cell_type": "code",
   "execution_count": 361,
   "id": "5839fa1d",
   "metadata": {},
   "outputs": [
    {
     "name": "stdout",
     "output_type": "stream",
     "text": [
      "Rows of df19 that are not present in df20 are:\n",
      "                Country_name  Score  Freedom\n",
      "Happiness Rank                             \n",
      "29                    Qatar  6.374    0.555\n",
      "95                   Bhutan  5.082    0.457\n",
      "112                 Somalia  4.668    0.559\n",
      "149                   Syria  3.462    0.013 \n",
      "\n",
      "Rows of df20 that are not present in df19 are:\n",
      "                Country_name   Score   Freedom\n",
      "Happiness Rank                               \n",
      "87                 Maldives  5.1976  0.853963\n"
     ]
    }
   ],
   "source": [
    "# Display result\n",
    "print(\"Rows of df19 that are not present in df20 are:\\n\",result,\"\\n\")\n",
    "\n",
    "# Display result2\n",
    "print(\"Rows of df20 that are not present in df19 are:\\n\",result2)"
   ]
  },
  {
   "cell_type": "code",
   "execution_count": 357,
   "id": "e4e4e7ca",
   "metadata": {},
   "outputs": [],
   "source": [
    "df19['Country_name'] = df19['Country_name'].replace(['Trinidad & Tobago'], 'Trinidad and Tobago')\n",
    "df20['Country_name'] = df20['Country_name'].replace(['Taiwan Province of China'], 'Taiwan')\n",
    "df20['Country_name'] = df20['Country_name'].replace(['Hong Kong S.A.R. of China'], 'Hong Kong')\n",
    "df20['Country_name'] = df20['Country_name'].replace(['North Cyprus'], 'Northern Cyprus')\n",
    "df20['Country_name'] = df20['Country_name'].replace(['Macedonia'], 'North Macedonia')\n",
    "# Making country naming consistent between DataFrames"
   ]
  },
  {
   "cell_type": "code",
   "execution_count": 409,
   "id": "fe17aa77",
   "metadata": {},
   "outputs": [],
   "source": [
    "# After this check I went back up and re-ran the cells that defined 'common', 'result', and 'result2', \n",
    "# keeping in mind that only 5 countries should now show up in either df19 or df20: Qatar, Bhutan, Somalia, Syria (df19) \n",
    "# and Maldives (df20)\n",
    "# Update: it worked\n",
    "# From doing this I determined that I want to drop a couple countries from df19 and one from df20, \n",
    "# so that the DataFrames are the same."
   ]
  },
  {
   "cell_type": "code",
   "execution_count": 404,
   "id": "a91fb024",
   "metadata": {},
   "outputs": [],
   "source": [
    "# The math works, because the difference in the rows above is 3 (4-1). The others were just due to naming issues, \n",
    "# so I fixed those."
   ]
  },
  {
   "cell_type": "code",
   "execution_count": 376,
   "id": "bc95dc69",
   "metadata": {},
   "outputs": [],
   "source": [
    "newdf20 = df20.drop(df20.index[[86]])\n",
    "newdf19 = df19.drop(df19.index[[28, 94, 111, 148]])"
   ]
  },
  {
   "cell_type": "code",
   "execution_count": 372,
   "id": "035126d6",
   "metadata": {},
   "outputs": [],
   "source": [
    "# Check to make sure DataFrames are the same length now\n",
    "def lengthcheck(df1, df2):\n",
    "    if len(df1) == len(df2):\n",
    "        return True\n",
    "    else:\n",
    "        return False"
   ]
  },
  {
   "cell_type": "code",
   "execution_count": 374,
   "id": "1c00add2",
   "metadata": {},
   "outputs": [
    {
     "data": {
      "text/plain": [
       "True"
      ]
     },
     "execution_count": 374,
     "metadata": {},
     "output_type": "execute_result"
    }
   ],
   "source": [
    "lengthcheck(newdf19, newdf20)"
   ]
  },
  {
   "cell_type": "code",
   "execution_count": 375,
   "id": "59e1068d",
   "metadata": {},
   "outputs": [],
   "source": [
    "# Success; DataFrames are now the same length."
   ]
  },
  {
   "cell_type": "code",
   "execution_count": 382,
   "id": "cd426b63",
   "metadata": {},
   "outputs": [
    {
     "data": {
      "text/html": [
       "<div>\n",
       "<style scoped>\n",
       "    .dataframe tbody tr th:only-of-type {\n",
       "        vertical-align: middle;\n",
       "    }\n",
       "\n",
       "    .dataframe tbody tr th {\n",
       "        vertical-align: top;\n",
       "    }\n",
       "\n",
       "    .dataframe thead th {\n",
       "        text-align: right;\n",
       "    }\n",
       "</style>\n",
       "<table border=\"1\" class=\"dataframe\">\n",
       "  <thead>\n",
       "    <tr style=\"text-align: right;\">\n",
       "      <th></th>\n",
       "      <th>Country_name</th>\n",
       "      <th>Score</th>\n",
       "      <th>Freedom</th>\n",
       "    </tr>\n",
       "    <tr>\n",
       "      <th>Happiness Rank</th>\n",
       "      <th></th>\n",
       "      <th></th>\n",
       "      <th></th>\n",
       "    </tr>\n",
       "  </thead>\n",
       "  <tbody>\n",
       "    <tr>\n",
       "      <th>87</th>\n",
       "      <td>Maldives</td>\n",
       "      <td>5.1976</td>\n",
       "      <td>0.853963</td>\n",
       "    </tr>\n",
       "    <tr>\n",
       "      <th>88</th>\n",
       "      <td>Congo (Brazzaville)</td>\n",
       "      <td>5.1944</td>\n",
       "      <td>0.719059</td>\n",
       "    </tr>\n",
       "  </tbody>\n",
       "</table>\n",
       "</div>"
      ],
      "text/plain": [
       "                       Country_name   Score   Freedom\n",
       "Happiness Rank                                       \n",
       "87                         Maldives  5.1976  0.853963\n",
       "88              Congo (Brazzaville)  5.1944  0.719059"
      ]
     },
     "execution_count": 382,
     "metadata": {},
     "output_type": "execute_result"
    }
   ],
   "source": [
    "df20.iloc[[86, 87]]"
   ]
  },
  {
   "cell_type": "code",
   "execution_count": 383,
   "id": "7913d6f1",
   "metadata": {},
   "outputs": [
    {
     "data": {
      "text/html": [
       "<div>\n",
       "<style scoped>\n",
       "    .dataframe tbody tr th:only-of-type {\n",
       "        vertical-align: middle;\n",
       "    }\n",
       "\n",
       "    .dataframe tbody tr th {\n",
       "        vertical-align: top;\n",
       "    }\n",
       "\n",
       "    .dataframe thead th {\n",
       "        text-align: right;\n",
       "    }\n",
       "</style>\n",
       "<table border=\"1\" class=\"dataframe\">\n",
       "  <thead>\n",
       "    <tr style=\"text-align: right;\">\n",
       "      <th></th>\n",
       "      <th>Country_name</th>\n",
       "      <th>Score</th>\n",
       "      <th>Freedom</th>\n",
       "    </tr>\n",
       "    <tr>\n",
       "      <th>Happiness Rank</th>\n",
       "      <th></th>\n",
       "      <th></th>\n",
       "      <th></th>\n",
       "    </tr>\n",
       "  </thead>\n",
       "  <tbody>\n",
       "    <tr>\n",
       "      <th>88</th>\n",
       "      <td>Congo (Brazzaville)</td>\n",
       "      <td>5.1944</td>\n",
       "      <td>0.719059</td>\n",
       "    </tr>\n",
       "  </tbody>\n",
       "</table>\n",
       "</div>"
      ],
      "text/plain": [
       "                       Country_name   Score   Freedom\n",
       "Happiness Rank                                       \n",
       "88              Congo (Brazzaville)  5.1944  0.719059"
      ]
     },
     "execution_count": 383,
     "metadata": {},
     "output_type": "execute_result"
    }
   ],
   "source": [
    "newdf20.iloc[[86]] # Quick check to make sure this is different now; should be Congo (Brazzaville), NOT Maldives"
   ]
  },
  {
   "cell_type": "markdown",
   "id": "f22c8df7",
   "metadata": {},
   "source": [
    "#### Now do the same thing again, comparing df19 and df21. No need to do df20 and df21, b/c now df19 and df20 are the same.\n",
    "##### (Will make adjustments later if additional things need to be removed)"
   ]
  },
  {
   "cell_type": "code",
   "execution_count": 399,
   "id": "82d49cd6",
   "metadata": {},
   "outputs": [
    {
     "data": {
      "text/plain": [
       "149"
      ]
     },
     "execution_count": 399,
     "metadata": {},
     "output_type": "execute_result"
    }
   ],
   "source": [
    "len(df21) \n",
    "# This tells me that some things will need to be removed from df19 and df20 -- in retrospect I would have done this \n",
    "# comparison first, since df21 is the shortest DataFrame."
   ]
  },
  {
   "cell_type": "code",
   "execution_count": 406,
   "id": "6b4710fa",
   "metadata": {},
   "outputs": [
    {
     "data": {
      "text/html": [
       "<div>\n",
       "<style scoped>\n",
       "    .dataframe tbody tr th:only-of-type {\n",
       "        vertical-align: middle;\n",
       "    }\n",
       "\n",
       "    .dataframe tbody tr th {\n",
       "        vertical-align: top;\n",
       "    }\n",
       "\n",
       "    .dataframe thead th {\n",
       "        text-align: right;\n",
       "    }\n",
       "</style>\n",
       "<table border=\"1\" class=\"dataframe\">\n",
       "  <thead>\n",
       "    <tr style=\"text-align: right;\">\n",
       "      <th></th>\n",
       "      <th>Country_name</th>\n",
       "      <th>Score</th>\n",
       "      <th>Freedom</th>\n",
       "    </tr>\n",
       "    <tr>\n",
       "      <th>Happiness Rank</th>\n",
       "      <th></th>\n",
       "      <th></th>\n",
       "      <th></th>\n",
       "    </tr>\n",
       "  </thead>\n",
       "  <tbody>\n",
       "    <tr>\n",
       "      <th>39</th>\n",
       "      <td>Trinidad and Tobago</td>\n",
       "      <td>6.192</td>\n",
       "      <td>0.489</td>\n",
       "    </tr>\n",
       "    <tr>\n",
       "      <th>127</th>\n",
       "      <td>Congo (Kinshasa)</td>\n",
       "      <td>4.418</td>\n",
       "      <td>0.269</td>\n",
       "    </tr>\n",
       "    <tr>\n",
       "      <th>155</th>\n",
       "      <td>Central African Republic</td>\n",
       "      <td>3.083</td>\n",
       "      <td>0.225</td>\n",
       "    </tr>\n",
       "    <tr>\n",
       "      <th>156</th>\n",
       "      <td>South Sudan</td>\n",
       "      <td>2.853</td>\n",
       "      <td>0.010</td>\n",
       "    </tr>\n",
       "  </tbody>\n",
       "</table>\n",
       "</div>"
      ],
      "text/plain": [
       "                            Country_name  Score  Freedom\n",
       "Happiness Rank                                          \n",
       "39                   Trinidad and Tobago  6.192    0.489\n",
       "127                     Congo (Kinshasa)  4.418    0.269\n",
       "155             Central African Republic  3.083    0.225\n",
       "156                          South Sudan  2.853    0.010"
      ]
     },
     "execution_count": 406,
     "metadata": {},
     "output_type": "execute_result"
    }
   ],
   "source": [
    "## CHANGE ME \n",
    "common2 = newdf19.merge(df21, on=[\"Country_name\"])\n",
    "result = newdf19[~newdf19.Country_name.isin(common2.Country_name)]\n",
    "result"
   ]
  },
  {
   "cell_type": "code",
   "execution_count": 407,
   "id": "7c529fe7",
   "metadata": {},
   "outputs": [
    {
     "data": {
      "text/html": [
       "<div>\n",
       "<style scoped>\n",
       "    .dataframe tbody tr th:only-of-type {\n",
       "        vertical-align: middle;\n",
       "    }\n",
       "\n",
       "    .dataframe tbody tr th {\n",
       "        vertical-align: top;\n",
       "    }\n",
       "\n",
       "    .dataframe thead th {\n",
       "        text-align: right;\n",
       "    }\n",
       "</style>\n",
       "<table border=\"1\" class=\"dataframe\">\n",
       "  <thead>\n",
       "    <tr style=\"text-align: right;\">\n",
       "      <th></th>\n",
       "      <th>Country_name</th>\n",
       "      <th>Score</th>\n",
       "      <th>Freedom</th>\n",
       "    </tr>\n",
       "    <tr>\n",
       "      <th>Happiness Rank</th>\n",
       "      <th></th>\n",
       "      <th></th>\n",
       "      <th></th>\n",
       "    </tr>\n",
       "  </thead>\n",
       "  <tbody>\n",
       "    <tr>\n",
       "      <th>89</th>\n",
       "      <td>Maldives</td>\n",
       "      <td>5.198</td>\n",
       "      <td>0.854</td>\n",
       "    </tr>\n",
       "  </tbody>\n",
       "</table>\n",
       "</div>"
      ],
      "text/plain": [
       "               Country_name  Score  Freedom\n",
       "Happiness Rank                             \n",
       "89                 Maldives  5.198    0.854"
      ]
     },
     "execution_count": 407,
     "metadata": {},
     "output_type": "execute_result"
    }
   ],
   "source": [
    "result2 = df21[~df21.Country_name.isin(common2.Country_name)]\n",
    "result2"
   ]
  },
  {
   "cell_type": "code",
   "execution_count": 408,
   "id": "76273d61",
   "metadata": {},
   "outputs": [
    {
     "name": "stdout",
     "output_type": "stream",
     "text": [
      "Rows of newdf19 that are not present in df21 are:\n",
      "                             Country_name  Score  Freedom\n",
      "Happiness Rank                                          \n",
      "39                   Trinidad and Tobago  6.192    0.489\n",
      "127                     Congo (Kinshasa)  4.418    0.269\n",
      "155             Central African Republic  3.083    0.225\n",
      "156                          South Sudan  2.853    0.010 \n",
      "\n",
      "Rows of df21 that are not present in newdf19 are:\n",
      "                Country_name  Score  Freedom\n",
      "Happiness Rank                             \n",
      "89                 Maldives  5.198    0.854\n"
     ]
    }
   ],
   "source": [
    "# Display result\n",
    "print(\"Rows of newdf19 that are not present in df21 are:\\n\",result,\"\\n\")\n",
    "\n",
    "# Display result2\n",
    "print(\"Rows of df21 that are not present in newdf19 are:\\n\",result2)"
   ]
  },
  {
   "cell_type": "code",
   "execution_count": 405,
   "id": "20772bfb",
   "metadata": {},
   "outputs": [],
   "source": [
    "df21['Country_name'] = df21['Country_name'].replace(['Taiwan Province of China'], 'Taiwan')\n",
    "df21['Country_name'] = df21['Country_name'].replace(['North Cyprus'], 'Northern Cyprus')\n",
    "df21['Country_name'] = df21['Country_name'].replace(['Hong Kong S.A.R. of China'], 'Hong Kong')\n",
    "# Making country naming consistent between all DataFrames"
   ]
  },
  {
   "cell_type": "code",
   "execution_count": 410,
   "id": "f3380bde",
   "metadata": {},
   "outputs": [],
   "source": [
    "# After this check I went back up and re-ran the cells that defined 'common2', 'result', and 'result2', \n",
    "# keeping in mind that only 5 countries should now show up in either df19 or df20: Trinidad and Tobago, \n",
    "# Congo (Kinshasa), Central African Republic, South Sudan (newdf19) \n",
    "# and Maldives (df21)\n",
    "# Update: it worked\n",
    "# From doing this I determined that I want to drop a couple countries from newdf19 and newdf20 and one from df21, \n",
    "# so that all of the DataFrames are the same."
   ]
  },
  {
   "cell_type": "code",
   "execution_count": null,
   "id": "f00f05a7",
   "metadata": {},
   "outputs": [],
   "source": [
    "# Again, the math works, because the difference in the rows above is 3 (4-1). The others were just due to naming issues, \n",
    "# so I fixed those."
   ]
  },
  {
   "cell_type": "code",
   "execution_count": 428,
   "id": "f4ecffbf",
   "metadata": {},
   "outputs": [
    {
     "data": {
      "text/html": [
       "<div>\n",
       "<style scoped>\n",
       "    .dataframe tbody tr th:only-of-type {\n",
       "        vertical-align: middle;\n",
       "    }\n",
       "\n",
       "    .dataframe tbody tr th {\n",
       "        vertical-align: top;\n",
       "    }\n",
       "\n",
       "    .dataframe thead th {\n",
       "        text-align: right;\n",
       "    }\n",
       "</style>\n",
       "<table border=\"1\" class=\"dataframe\">\n",
       "  <thead>\n",
       "    <tr style=\"text-align: right;\">\n",
       "      <th></th>\n",
       "      <th>Country_name</th>\n",
       "      <th>Score</th>\n",
       "      <th>Freedom</th>\n",
       "    </tr>\n",
       "    <tr>\n",
       "      <th>Happiness Rank</th>\n",
       "      <th></th>\n",
       "      <th></th>\n",
       "      <th></th>\n",
       "    </tr>\n",
       "  </thead>\n",
       "  <tbody>\n",
       "    <tr>\n",
       "      <th>39</th>\n",
       "      <td>Trinidad and Tobago</td>\n",
       "      <td>6.192</td>\n",
       "      <td>0.489</td>\n",
       "    </tr>\n",
       "    <tr>\n",
       "      <th>127</th>\n",
       "      <td>Congo (Kinshasa)</td>\n",
       "      <td>4.418</td>\n",
       "      <td>0.269</td>\n",
       "    </tr>\n",
       "    <tr>\n",
       "      <th>155</th>\n",
       "      <td>Central African Republic</td>\n",
       "      <td>3.083</td>\n",
       "      <td>0.225</td>\n",
       "    </tr>\n",
       "    <tr>\n",
       "      <th>156</th>\n",
       "      <td>South Sudan</td>\n",
       "      <td>2.853</td>\n",
       "      <td>0.010</td>\n",
       "    </tr>\n",
       "  </tbody>\n",
       "</table>\n",
       "</div>"
      ],
      "text/plain": [
       "                            Country_name  Score  Freedom\n",
       "Happiness Rank                                          \n",
       "39                   Trinidad and Tobago  6.192    0.489\n",
       "127                     Congo (Kinshasa)  4.418    0.269\n",
       "155             Central African Republic  3.083    0.225\n",
       "156                          South Sudan  2.853    0.010"
      ]
     },
     "execution_count": 428,
     "metadata": {},
     "output_type": "execute_result"
    }
   ],
   "source": [
    "newdf19.iloc[[37, 123, 150, 151]] \n",
    "# If I had more time, this is something that I would change; I had to basically try to find the right rows by guess \n",
    "# and check"
   ]
  },
  {
   "cell_type": "code",
   "execution_count": 449,
   "id": "a87c191d",
   "metadata": {},
   "outputs": [
    {
     "name": "stdout",
     "output_type": "stream",
     "text": [
      "[42] [131] [149] [152]\n"
     ]
    }
   ],
   "source": [
    "tt = newdf20[newdf20['Country_name']=='Trinidad and Tobago'].index.values\n",
    "ck = newdf20[newdf20['Country_name']=='Congo (Kinshasa)'].index.values\n",
    "car = newdf20[newdf20['Country_name']=='Central African Republic'].index.values\n",
    "ss = newdf20[newdf20['Country_name']=='South Sudan'].index.values\n",
    "print(tt, ck, car, ss) # Finding general areas of these countries in the DataFrame"
   ]
  },
  {
   "cell_type": "code",
   "execution_count": 456,
   "id": "8438f487",
   "metadata": {},
   "outputs": [
    {
     "data": {
      "text/html": [
       "<div>\n",
       "<style scoped>\n",
       "    .dataframe tbody tr th:only-of-type {\n",
       "        vertical-align: middle;\n",
       "    }\n",
       "\n",
       "    .dataframe tbody tr th {\n",
       "        vertical-align: top;\n",
       "    }\n",
       "\n",
       "    .dataframe thead th {\n",
       "        text-align: right;\n",
       "    }\n",
       "</style>\n",
       "<table border=\"1\" class=\"dataframe\">\n",
       "  <thead>\n",
       "    <tr style=\"text-align: right;\">\n",
       "      <th></th>\n",
       "      <th>Country_name</th>\n",
       "      <th>Score</th>\n",
       "      <th>Freedom</th>\n",
       "    </tr>\n",
       "    <tr>\n",
       "      <th>Happiness Rank</th>\n",
       "      <th></th>\n",
       "      <th></th>\n",
       "      <th></th>\n",
       "    </tr>\n",
       "  </thead>\n",
       "  <tbody>\n",
       "    <tr>\n",
       "      <th>42</th>\n",
       "      <td>Trinidad and Tobago</td>\n",
       "      <td>6.1919</td>\n",
       "      <td>0.857907</td>\n",
       "    </tr>\n",
       "    <tr>\n",
       "      <th>131</th>\n",
       "      <td>Congo (Kinshasa)</td>\n",
       "      <td>4.3110</td>\n",
       "      <td>0.700794</td>\n",
       "    </tr>\n",
       "    <tr>\n",
       "      <th>149</th>\n",
       "      <td>Central African Republic</td>\n",
       "      <td>3.4759</td>\n",
       "      <td>0.640881</td>\n",
       "    </tr>\n",
       "    <tr>\n",
       "      <th>152</th>\n",
       "      <td>South Sudan</td>\n",
       "      <td>2.8166</td>\n",
       "      <td>0.451314</td>\n",
       "    </tr>\n",
       "  </tbody>\n",
       "</table>\n",
       "</div>"
      ],
      "text/plain": [
       "                            Country_name   Score   Freedom\n",
       "Happiness Rank                                            \n",
       "42                   Trinidad and Tobago  6.1919  0.857907\n",
       "131                     Congo (Kinshasa)  4.3110  0.700794\n",
       "149             Central African Republic  3.4759  0.640881\n",
       "152                          South Sudan  2.8166  0.451314"
      ]
     },
     "execution_count": 456,
     "metadata": {},
     "output_type": "execute_result"
    }
   ],
   "source": [
    "newdf20.iloc[[41, 129, 147, 150]] \n",
    "# Again, if I had more time, this is something that I would change"
   ]
  },
  {
   "cell_type": "code",
   "execution_count": 451,
   "id": "b60e6c3e",
   "metadata": {},
   "outputs": [],
   "source": [
    "newdf21 = df21.drop(df21.index[[88]])\n",
    "newdf19_2 = newdf19.drop(newdf19.index[[37, 123, 150, 151]])\n",
    "newdf20_2 = newdf20.drop(newdf20.index[[41, 129, 147, 150]])"
   ]
  },
  {
   "cell_type": "code",
   "execution_count": 719,
   "id": "06711a50",
   "metadata": {},
   "outputs": [
    {
     "name": "stdout",
     "output_type": "stream",
     "text": [
      "True True\n"
     ]
    }
   ],
   "source": [
    "print(lengthcheck(newdf19_2, newdf21), lengthcheck(newdf20_2, newdf21)) \n",
    "# Everything is the same now; data cleaning for these purposes is done"
   ]
  },
  {
   "cell_type": "markdown",
   "id": "4b910580",
   "metadata": {},
   "source": [
    "## Basic Comparison"
   ]
  },
  {
   "cell_type": "code",
   "execution_count": 718,
   "id": "bed27ef3",
   "metadata": {},
   "outputs": [],
   "source": [
    "from IPython.display import display_html\n",
    "from itertools import chain, cycle"
   ]
  },
  {
   "cell_type": "code",
   "execution_count": 713,
   "id": "e4c68d25",
   "metadata": {},
   "outputs": [],
   "source": [
    "def display_side_by_side(*args,titles=cycle([''])):\n",
    "    html_str=''\n",
    "    for df,title in zip(args, chain(titles,cycle(['</br>'])) ):\n",
    "        html_str+='<th style=\"text-align:center\"><td style=\"vertical-align:top\">'\n",
    "        html_str+=f'<h2 style=\"text-align: center;\">{title}</h2>'\n",
    "        html_str+=df.to_html().replace('table','table style=\"display:inline\"')\n",
    "        html_str+='</td></th>'\n",
    "    display_html(html_str,raw=True)"
   ]
  },
  {
   "cell_type": "code",
   "execution_count": 717,
   "id": "39782cbd",
   "metadata": {},
   "outputs": [
    {
     "data": {
      "text/html": [
       "<th style=\"text-align:center\"><td style=\"vertical-align:top\"><h2 style=\"text-align: center;\">2019</h2><table style=\"display:inline\" border=\"1\" class=\"dataframe\">\n",
       "  <thead>\n",
       "    <tr style=\"text-align: right;\">\n",
       "      <th></th>\n",
       "      <th>Score</th>\n",
       "      <th>Freedom</th>\n",
       "    </tr>\n",
       "  </thead>\n",
       "  <tbody>\n",
       "    <tr>\n",
       "      <th>count</th>\n",
       "      <td>148.000</td>\n",
       "      <td>148.000</td>\n",
       "    </tr>\n",
       "    <tr>\n",
       "      <th>mean</th>\n",
       "      <td>5.455</td>\n",
       "      <td>0.396</td>\n",
       "    </tr>\n",
       "    <tr>\n",
       "      <th>std</th>\n",
       "      <td>1.084</td>\n",
       "      <td>0.137</td>\n",
       "    </tr>\n",
       "    <tr>\n",
       "      <th>min</th>\n",
       "      <td>3.203</td>\n",
       "      <td>0.000</td>\n",
       "    </tr>\n",
       "    <tr>\n",
       "      <th>25%</th>\n",
       "      <td>4.580</td>\n",
       "      <td>0.312</td>\n",
       "    </tr>\n",
       "    <tr>\n",
       "      <th>50%</th>\n",
       "      <td>5.428</td>\n",
       "      <td>0.417</td>\n",
       "    </tr>\n",
       "    <tr>\n",
       "      <th>75%</th>\n",
       "      <td>6.186</td>\n",
       "      <td>0.507</td>\n",
       "    </tr>\n",
       "    <tr>\n",
       "      <th>max</th>\n",
       "      <td>7.769</td>\n",
       "      <td>0.631</td>\n",
       "    </tr>\n",
       "  </tbody>\n",
       "</table style=\"display:inline\"></td></th><th style=\"text-align:center\"><td style=\"vertical-align:top\"><h2 style=\"text-align: center;\">2020</h2><table style=\"display:inline\" border=\"1\" class=\"dataframe\">\n",
       "  <thead>\n",
       "    <tr style=\"text-align: right;\">\n",
       "      <th></th>\n",
       "      <th>Score</th>\n",
       "      <th>Freedom</th>\n",
       "    </tr>\n",
       "  </thead>\n",
       "  <tbody>\n",
       "    <tr>\n",
       "      <th>count</th>\n",
       "      <td>148.000</td>\n",
       "      <td>148.000</td>\n",
       "    </tr>\n",
       "    <tr>\n",
       "      <th>mean</th>\n",
       "      <td>5.510</td>\n",
       "      <td>0.786</td>\n",
       "    </tr>\n",
       "    <tr>\n",
       "      <th>std</th>\n",
       "      <td>1.091</td>\n",
       "      <td>0.115</td>\n",
       "    </tr>\n",
       "    <tr>\n",
       "      <th>min</th>\n",
       "      <td>2.567</td>\n",
       "      <td>0.397</td>\n",
       "    </tr>\n",
       "    <tr>\n",
       "      <th>25%</th>\n",
       "      <td>4.745</td>\n",
       "      <td>0.718</td>\n",
       "    </tr>\n",
       "    <tr>\n",
       "      <th>50%</th>\n",
       "      <td>5.538</td>\n",
       "      <td>0.801</td>\n",
       "    </tr>\n",
       "    <tr>\n",
       "      <th>75%</th>\n",
       "      <td>6.263</td>\n",
       "      <td>0.881</td>\n",
       "    </tr>\n",
       "    <tr>\n",
       "      <th>max</th>\n",
       "      <td>7.809</td>\n",
       "      <td>0.975</td>\n",
       "    </tr>\n",
       "  </tbody>\n",
       "</table style=\"display:inline\"></td></th><th style=\"text-align:center\"><td style=\"vertical-align:top\"><h2 style=\"text-align: center;\">2021</h2><table style=\"display:inline\" border=\"1\" class=\"dataframe\">\n",
       "  <thead>\n",
       "    <tr style=\"text-align: right;\">\n",
       "      <th></th>\n",
       "      <th>Score</th>\n",
       "      <th>Freedom</th>\n",
       "    </tr>\n",
       "  </thead>\n",
       "  <tbody>\n",
       "    <tr>\n",
       "      <th>count</th>\n",
       "      <td>148.000</td>\n",
       "      <td>148.000</td>\n",
       "    </tr>\n",
       "    <tr>\n",
       "      <th>mean</th>\n",
       "      <td>5.535</td>\n",
       "      <td>0.791</td>\n",
       "    </tr>\n",
       "    <tr>\n",
       "      <th>std</th>\n",
       "      <td>1.077</td>\n",
       "      <td>0.114</td>\n",
       "    </tr>\n",
       "    <tr>\n",
       "      <th>min</th>\n",
       "      <td>2.523</td>\n",
       "      <td>0.382</td>\n",
       "    </tr>\n",
       "    <tr>\n",
       "      <th>25%</th>\n",
       "      <td>4.848</td>\n",
       "      <td>0.718</td>\n",
       "    </tr>\n",
       "    <tr>\n",
       "      <th>50%</th>\n",
       "      <td>5.535</td>\n",
       "      <td>0.802</td>\n",
       "    </tr>\n",
       "    <tr>\n",
       "      <th>75%</th>\n",
       "      <td>6.268</td>\n",
       "      <td>0.878</td>\n",
       "    </tr>\n",
       "    <tr>\n",
       "      <th>max</th>\n",
       "      <td>7.842</td>\n",
       "      <td>0.970</td>\n",
       "    </tr>\n",
       "  </tbody>\n",
       "</table style=\"display:inline\"></td></th>"
      ]
     },
     "metadata": {},
     "output_type": "display_data"
    }
   ],
   "source": [
    "d19 = df19.describe().round(3)\n",
    "d20 = df20.describe().round(3)\n",
    "d21 = df21.describe().round(3)\n",
    "display_side_by_side(d19, d20, d21, titles=['2019','2020', '2021'])"
   ]
  },
  {
   "cell_type": "markdown",
   "id": "c23e4f42",
   "metadata": {},
   "source": [
    "### Analysis of happiness in general"
   ]
  },
  {
   "cell_type": "markdown",
   "id": "4131da9b",
   "metadata": {},
   "source": [
    "#### Right off the bat, this is interesting to me. I initially hypothesized that happiness levels would have decreased between 2019 and 2020 and perhaps increased between 2020 and 2021 (or else stayed about the same), but there was an upward trend in worldwide happiness instead."
   ]
  },
  {
   "cell_type": "markdown",
   "id": "8450db70",
   "metadata": {},
   "source": [
    "### Analysis of freedom to make life choices "
   ]
  },
  {
   "cell_type": "markdown",
   "id": "a08d6a9b",
   "metadata": {},
   "source": [
    "#### I am shocked by the difference in average freedom to make life choices scores between 2019 and 2020 / 2021; so much so, in fact, that I wonder if the criteria was changed for this predictor between 2019 and 2020. I was curious as to how this was surveyed, and I found the following information from the World Happiness Report website: \"Freedom to make life choices is the national average of binary responses (0=no, 1=yes) to the GWP question 'Are you satisfied or dissatisfied with your freedom to choose what you do with your life?'\""
   ]
  },
  {
   "cell_type": "code",
   "execution_count": 562,
   "id": "7112009d",
   "metadata": {},
   "outputs": [],
   "source": [
    "index19_2 = pd.Index(range(1, len(newdf19_2) + 1, 1))\n",
    "newdf19_2 = newdf19_2.set_index(index19_2)\n",
    "index20_2 = pd.Index(range(1, len(newdf20_2) + 1, 1))\n",
    "newdf20_2 = newdf20_2.set_index(index20_2)\n",
    "index21_2 = pd.Index(range(1, len(newdf21) + 1, 1))\n",
    "newdf21 = newdf21.set_index(index21_2)\n",
    "# Fixing indexing again after I removed some of the rows during cleaning\n",
    "df19 = newdf19_2\n",
    "df20 = newdf20_2\n",
    "df21 = newdf21\n",
    "# Making this simpler also"
   ]
  },
  {
   "cell_type": "code",
   "execution_count": 684,
   "id": "48353748",
   "metadata": {},
   "outputs": [
    {
     "data": {
      "text/plain": [
       "[Text(1, 0, '2019'), Text(2, 0, '2020'), Text(3, 0, '2021')]"
      ]
     },
     "execution_count": 684,
     "metadata": {},
     "output_type": "execute_result"
    },
    {
     "data": {
      "image/png": "[encoded data removed]",
      "text/plain": [
       "<Figure size 432x288 with 1 Axes>"
      ]
     },
     "metadata": {},
     "output_type": "display_data"
    }
   ],
   "source": [
    "npdf19 = df19[df19.columns[1:]].to_numpy()\n",
    "npdf20 = df20[df20.columns[1:]].to_numpy()\n",
    "npdf21 = df21[df21.columns[1:]].to_numpy()\n",
    "data = list([npdf19.flatten(), npdf20.flatten(), npdf21.flatten()])\n",
    "fig, ax = plt.subplots()\n",
    "ax.boxplot(data)\n",
    "ax.set_title('Box Plots - Happiness Scores')\n",
    "ax.set_xlabel('Year')\n",
    "ax.set_ylabel('Score')\n",
    "xticklabels=['2019', '2020', '2021']\n",
    "ax.set_xticklabels(xticklabels)\n",
    "# Visualizing happiness scores with box plots "
   ]
  },
  {
   "cell_type": "code",
   "execution_count": 687,
   "id": "123962d4",
   "metadata": {},
   "outputs": [],
   "source": [
    "g19 = sns.lmplot(x='Freedom',y='Score',data=df19,fit_reg=True)\n",
    "g20 = sns.lmplot(x='Freedom',y='Score',data=df20,fit_reg=True)\n",
    "g21 = sns.lmplot(x='Freedom',y='Score',data=df21,fit_reg=True)\n",
    "plt.close()\n",
    "plt.close()\n",
    "plt.close()"
   ]
  },
  {
   "cell_type": "code",
   "execution_count": 688,
   "id": "f36366eb",
   "metadata": {},
   "outputs": [],
   "source": [
    "def annotate(data, **kws):\n",
    "    r, p = sp.stats.pearsonr(data['Freedom'], data['Score'])\n",
    "    ax = plt.gca()\n",
    "    ax.text(.05, .8, 'r={:.2f}, p={:.2g}'.format(r, p),\n",
    "            transform=ax.transAxes)"
   ]
  },
  {
   "cell_type": "code",
   "execution_count": 689,
   "id": "a0a55cd3",
   "metadata": {},
   "outputs": [
    {
     "data": {
      "image/png": "[encoded data removed]",
      "text/plain": [
       "<Figure size 360x360 with 1 Axes>"
      ]
     },
     "metadata": {},
     "output_type": "display_data"
    }
   ],
   "source": [
    "g19.map_dataframe(annotate)\n",
    "plt.title('Freedom vs. Score in 2019')\n",
    "plt.show()"
   ]
  },
  {
   "cell_type": "code",
   "execution_count": 690,
   "id": "fc458aa8",
   "metadata": {},
   "outputs": [
    {
     "data": {
      "image/png": "[encoded data removed]",
      "text/plain": [
       "<Figure size 360x360 with 1 Axes>"
      ]
     },
     "metadata": {},
     "output_type": "display_data"
    }
   ],
   "source": [
    "g20.map_dataframe(annotate)\n",
    "plt.title('Freedom vs. Score in 2020')\n",
    "plt.show()"
   ]
  },
  {
   "cell_type": "code",
   "execution_count": 661,
   "id": "9b438986",
   "metadata": {},
   "outputs": [
    {
     "data": {
      "image/png": "[encoded data removed]",
      "text/plain": [
       "<Figure size 360x360 with 1 Axes>"
      ]
     },
     "metadata": {},
     "output_type": "display_data"
    }
   ],
   "source": [
    "g21.map_dataframe(annotate)\n",
    "plt.title('Freedom vs. Score in 2021')\n",
    "plt.show()"
   ]
  }
 ],
 "metadata": {
  "kernelspec": {
   "display_name": "Python 3",
   "language": "python",
   "name": "python3"
  },
  "language_info": {
   "codemirror_mode": {
    "name": "ipython",
    "version": 3
   },
   "file_extension": ".py",
   "mimetype": "text/x-python",
   "name": "python",
   "nbconvert_exporter": "python",
   "pygments_lexer": "ipython3",
   "version": "3.8.8"
  }
 },
 "nbformat": 4,
 "nbformat_minor": 5
}
